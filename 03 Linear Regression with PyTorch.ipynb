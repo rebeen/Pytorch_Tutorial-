{
 "cells": [
  {
   "cell_type": "markdown",
   "metadata": {},
   "source": [
    "Simple linear Regression allows us to underestand relationship between two contimous variables"
   ]
  },
  {
   "cell_type": "markdown",
   "metadata": {},
   "source": [
    "## Example of simple liner Regression"
   ]
  },
  {
   "cell_type": "code",
   "execution_count": 1,
   "metadata": {},
   "outputs": [],
   "source": [
    "import numpy as np\n",
    "import matplotlib.pyplot as plt\n",
    "import time\n",
    "import os\n",
    "os.environ[\"CUDA_VISIBLE_DEVICES\"] = '0'"
   ]
  },
  {
   "cell_type": "code",
   "execution_count": 2,
   "metadata": {},
   "outputs": [
    {
     "data": {
      "image/png": "[encoded data removed]",
      "text/plain": [
       "<Figure size 432x288 with 1 Axes>"
      ]
     },
     "metadata": {},
     "output_type": "display_data"
    }
   ],
   "source": [
    "np.random.seed(1)\n",
    "n = 50\n",
    "x = np.random.randn(n)\n",
    "y = x * np.random.randn(n)\n",
    "\n",
    "colors = np.random.randn(n)\n",
    "plt.plot(np.unique(x), np.poly1d(np.polyfit(x, y, 1)) (np.unique(x)))\n",
    "\n",
    "plt.scatter(x, y, c = colors, alpha=0.5)\n",
    "plt.show()"
   ]
  },
  {
   "cell_type": "markdown",
   "metadata": {},
   "source": [
    "## Build a liner regression model with pytorch"
   ]
  },
  {
   "cell_type": "code",
   "execution_count": 3,
   "metadata": {},
   "outputs": [
    {
     "data": {
      "text/plain": [
       "[0, 1, 2, 3, 4, 5, 6, 7, 8, 9, 10]"
      ]
     },
     "execution_count": 3,
     "metadata": {},
     "output_type": "execute_result"
    }
   ],
   "source": [
    "x_value = [i for i in range(11)]\n",
    "x_value"
   ]
  },
  {
   "cell_type": "code",
   "execution_count": 4,
   "metadata": {
    "collapsed": true
   },
   "outputs": [],
   "source": [
    "# convert to numpy\n",
    "x_train = np.array(x_value, dtype=np.float32)"
   ]
  },
  {
   "cell_type": "code",
   "execution_count": 5,
   "metadata": {},
   "outputs": [
    {
     "data": {
      "text/plain": [
       "(11, 1)"
      ]
     },
     "execution_count": 5,
     "metadata": {},
     "output_type": "execute_result"
    }
   ],
   "source": [
    "x_train = x_train.reshape(-1, 1)\n",
    "x_train.shape"
   ]
  },
  {
   "cell_type": "code",
   "execution_count": 6,
   "metadata": {},
   "outputs": [
    {
     "data": {
      "text/plain": [
       "[1, 3, 5, 7, 9, 11, 13, 15, 17, 19, 21]"
      ]
     },
     "execution_count": 6,
     "metadata": {},
     "output_type": "execute_result"
    }
   ],
   "source": [
    "# y = 2x + 1\n",
    "y_value = [2 * i + 1 for i in x_value]\n",
    "y_value"
   ]
  },
  {
   "cell_type": "code",
   "execution_count": 7,
   "metadata": {},
   "outputs": [
    {
     "data": {
      "text/plain": [
       "(11, 1)"
      ]
     },
     "execution_count": 7,
     "metadata": {},
     "output_type": "execute_result"
    }
   ],
   "source": [
    "y_train = np.array(y_value, dtype=np.float32)\n",
    "y_train = y_train.reshape(-1, 1)\n",
    "y_train.shape"
   ]
  },
  {
   "cell_type": "code",
   "execution_count": null,
   "metadata": {
    "collapsed": true
   },
   "outputs": [],
   "source": []
  },
  {
   "cell_type": "markdown",
   "metadata": {},
   "source": [
    "## Building Model"
   ]
  },
  {
   "cell_type": "code",
   "execution_count": 8,
   "metadata": {
    "collapsed": true
   },
   "outputs": [],
   "source": [
    "import torch\n",
    "from torch.autograd import Variable\n",
    "import torch.nn as nn"
   ]
  },
  {
   "cell_type": "markdown",
   "metadata": {},
   "source": [
    "### Create model\n",
    "1. Liner model\n",
    "    * True eqn : y = 2x + 1\n",
    "2. Forward\n",
    "    * Example\n",
    "        * input x = 1\n",
    "        * y = ?"
   ]
  },
  {
   "cell_type": "code",
   "execution_count": 9,
   "metadata": {
    "collapsed": true
   },
   "outputs": [],
   "source": [
    "# create class\n",
    "class LinearRegressionModel(nn.Module):\n",
    "    \n",
    "    def __init__(self, input_size, output_size):\n",
    "        super(LinearRegressionModel, self).__init__()\n",
    "        self.linear = nn.Linear(input_dim, output_dim)\n",
    "        \n",
    "    def forward(self, x):\n",
    "   \n",
    "        out = self.linear(x)\n",
    "        \n",
    "        return out"
   ]
  },
  {
   "cell_type": "code",
   "execution_count": 13,
   "metadata": {},
   "outputs": [],
   "source": [
    "input_dim, output_dim = 1, 1\n",
    "model = LinearRegressionModel(input_dim, output_dim)\n"
   ]
  },
  {
   "cell_type": "code",
   "execution_count": 14,
   "metadata": {
    "collapsed": true
   },
   "outputs": [],
   "source": [
    "# MSE Loss = Mean Squered Error\n",
    "\n",
    "criteration = nn.MSELoss()"
   ]
  },
  {
   "cell_type": "code",
   "execution_count": 15,
   "metadata": {
    "collapsed": true
   },
   "outputs": [],
   "source": [
    "# Optimizer Class\n",
    "\n",
    "learning_rate = 0.01\n",
    "\n",
    "optimizer = torch.optim.Adam(model.parameters(), lr = learning_rate)"
   ]
  },
  {
   "cell_type": "markdown",
   "metadata": {},
   "source": [
    "**Train Model**\n"
   ]
  },
  {
   "cell_type": "code",
   "execution_count": 16,
   "metadata": {
    "scrolled": true
   },
   "outputs": [
    {
     "name": "stdout",
     "output_type": "stream",
     "text": [
      "Epocs 1 loss 172.5581817626953\n",
      "Epocs 2 loss 170.781005859375\n",
      "Epocs 3 loss 169.01327514648438\n",
      "Epocs 4 loss 167.25514221191406\n",
      "Epocs 5 loss 165.50677490234375\n",
      "Epocs 6 loss 163.76832580566406\n",
      "Epocs 7 loss 162.0399169921875\n",
      "Epocs 8 loss 160.3217315673828\n",
      "Epocs 9 loss 158.61387634277344\n",
      "Epocs 10 loss 156.91650390625\n",
      "Epocs 11 loss 155.22975158691406\n",
      "Epocs 12 loss 153.55372619628906\n",
      "Epocs 13 loss 151.8885498046875\n",
      "Epocs 14 loss 150.23434448242188\n",
      "Epocs 15 loss 148.5912322998047\n",
      "Epocs 16 loss 146.9592742919922\n",
      "Epocs 17 loss 145.338623046875\n",
      "Epocs 18 loss 143.72930908203125\n",
      "Epocs 19 loss 142.13145446777344\n",
      "Epocs 20 loss 140.5451202392578\n",
      "Epocs 21 loss 138.9703826904297\n",
      "Epocs 22 loss 137.40731811523438\n",
      "Epocs 23 loss 135.85597229003906\n",
      "Epocs 24 loss 134.31640625\n",
      "Epocs 25 loss 132.78866577148438\n",
      "Epocs 26 loss 131.27279663085938\n",
      "Epocs 27 loss 129.76881408691406\n",
      "Epocs 28 loss 128.27676391601562\n",
      "Epocs 29 loss 126.79668426513672\n",
      "Epocs 30 loss 125.32857513427734\n",
      "Epocs 31 loss 123.87245178222656\n",
      "Epocs 32 loss 122.4283447265625\n",
      "Epocs 33 loss 120.9962387084961\n",
      "Epocs 34 loss 119.57614135742188\n",
      "Epocs 35 loss 118.16805267333984\n",
      "Epocs 36 loss 116.77196502685547\n",
      "Epocs 37 loss 115.38786315917969\n",
      "Epocs 38 loss 114.01573181152344\n",
      "Epocs 39 loss 112.65554809570312\n",
      "Epocs 40 loss 111.30730438232422\n",
      "Epocs 41 loss 109.97096252441406\n",
      "Epocs 42 loss 108.64651489257812\n",
      "Epocs 43 loss 107.33390045166016\n",
      "Epocs 44 loss 106.0331039428711\n",
      "Epocs 45 loss 104.74408721923828\n",
      "Epocs 46 loss 103.46681213378906\n",
      "Epocs 47 loss 102.20124053955078\n",
      "Epocs 48 loss 100.94731903076172\n",
      "Epocs 49 loss 99.70500946044922\n",
      "Epocs 50 loss 98.4742660522461\n",
      "Epocs 51 loss 97.25504302978516\n",
      "Epocs 52 loss 96.04728698730469\n",
      "Epocs 53 loss 94.8509521484375\n",
      "Epocs 54 loss 93.66598510742188\n",
      "Epocs 55 loss 92.49232482910156\n",
      "Epocs 56 loss 91.32991790771484\n",
      "Epocs 57 loss 90.17871856689453\n",
      "Epocs 58 loss 89.03865051269531\n",
      "Epocs 59 loss 87.90966796875\n",
      "Epocs 60 loss 86.79171752929688\n",
      "Epocs 61 loss 85.68473815917969\n",
      "Epocs 62 loss 84.58865356445312\n",
      "Epocs 63 loss 83.50341033935547\n",
      "Epocs 64 loss 82.42896270751953\n",
      "Epocs 65 loss 81.365234375\n",
      "Epocs 66 loss 80.31216430664062\n",
      "Epocs 67 loss 79.26969146728516\n",
      "Epocs 68 loss 78.23773956298828\n",
      "Epocs 69 loss 77.21626281738281\n",
      "Epocs 70 loss 76.20519256591797\n",
      "Epocs 71 loss 75.20446014404297\n",
      "Epocs 72 loss 74.21400451660156\n",
      "Epocs 73 loss 73.23374938964844\n",
      "Epocs 74 loss 72.2636489868164\n",
      "Epocs 75 loss 71.30362701416016\n",
      "Epocs 76 loss 70.3536148071289\n",
      "Epocs 77 loss 69.41354370117188\n",
      "Epocs 78 loss 68.48336791992188\n",
      "Epocs 79 loss 67.56298828125\n",
      "Epocs 80 loss 66.6523666381836\n",
      "Epocs 81 loss 65.75142669677734\n",
      "Epocs 82 loss 64.86009979248047\n",
      "Epocs 83 loss 63.978328704833984\n",
      "Epocs 84 loss 63.10604476928711\n",
      "Epocs 85 loss 62.24317169189453\n",
      "Epocs 86 loss 61.3896484375\n",
      "Epocs 87 loss 60.54540252685547\n",
      "Epocs 88 loss 59.71038818359375\n",
      "Epocs 89 loss 58.884517669677734\n",
      "Epocs 90 loss 58.06773376464844\n",
      "Epocs 91 loss 57.25996398925781\n",
      "Epocs 92 loss 56.461158752441406\n",
      "Epocs 93 loss 55.67123794555664\n",
      "Epocs 94 loss 54.89013671875\n",
      "Epocs 95 loss 54.11779022216797\n",
      "Epocs 96 loss 53.3541374206543\n",
      "Epocs 97 loss 52.599098205566406\n",
      "Epocs 98 loss 51.85262680053711\n",
      "Epocs 99 loss 51.11464309692383\n",
      "Epocs 100 loss 50.38508224487305\n",
      "Cpu Time 0.07465648651123047\n"
     ]
    }
   ],
   "source": [
    "a = time.time()\n",
    "epochs = 100\n",
    "\n",
    "for epoch in range(1, epochs+1):\n",
    "    \n",
    "    # Convert Numpy array to torch\n",
    "    inputs = Variable(torch.from_numpy(x_train))\n",
    "    labels = Variable(torch.from_numpy(y_train))\n",
    "    \n",
    "    # Clear Gradeients WRT\n",
    "    optimizer.zero_grad()\n",
    "    \n",
    "    # Forward to get output \n",
    "    outputs = model(inputs)\n",
    "    \n",
    "    # Calculate Loss\n",
    "    loss = criteration(outputs, labels)\n",
    "    \n",
    "    # Getting Gradients w.r.t param\n",
    "    loss.backward()\n",
    "    \n",
    "    # Updating Parm\n",
    "    optimizer.step()\n",
    "    \n",
    "    print('Epocs', epoch, 'loss', loss.item())\n",
    "    \n",
    "print('Cpu Time', time.time() - a)\n",
    "del a"
   ]
  },
  {
   "cell_type": "code",
   "execution_count": null,
   "metadata": {
    "collapsed": true
   },
   "outputs": [],
   "source": [
    "\n"
   ]
  },
  {
   "cell_type": "code",
   "execution_count": 17,
   "metadata": {},
   "outputs": [
    {
     "data": {
      "text/plain": [
       "array([[0.21756734],\n",
       "       [1.1402384 ],\n",
       "       [2.0629096 ],\n",
       "       [2.9855807 ],\n",
       "       [3.9082518 ],\n",
       "       [4.830923  ],\n",
       "       [5.753594  ],\n",
       "       [6.676265  ],\n",
       "       [7.598936  ],\n",
       "       [8.521607  ],\n",
       "       [9.444279  ]], dtype=float32)"
      ]
     },
     "execution_count": 17,
     "metadata": {},
     "output_type": "execute_result"
    }
   ],
   "source": [
    "# Compare data\n",
    "predicted = model(Variable(torch.from_numpy(x_train))).data.numpy()\n",
    "predicted"
   ]
  },
  {
   "cell_type": "code",
   "execution_count": 18,
   "metadata": {},
   "outputs": [
    {
     "data": {
      "text/plain": [
       "array([[ 1.],\n",
       "       [ 3.],\n",
       "       [ 5.],\n",
       "       [ 7.],\n",
       "       [ 9.],\n",
       "       [11.],\n",
       "       [13.],\n",
       "       [15.],\n",
       "       [17.],\n",
       "       [19.],\n",
       "       [21.]], dtype=float32)"
      ]
     },
     "execution_count": 18,
     "metadata": {},
     "output_type": "execute_result"
    }
   ],
   "source": [
    "y_train"
   ]
  },
  {
   "cell_type": "markdown",
   "metadata": {},
   "source": [
    "**Save model**\n"
   ]
  },
  {
   "cell_type": "code",
   "execution_count": 19,
   "metadata": {
    "collapsed": true
   },
   "outputs": [],
   "source": [
    "torch.save(model.state_dict(), '03 Linear Regression with PyTorch.pkl')"
   ]
  },
  {
   "cell_type": "markdown",
   "metadata": {},
   "source": [
    "**Load Model**"
   ]
  },
  {
   "cell_type": "code",
   "execution_count": 20,
   "metadata": {
    "collapsed": true
   },
   "outputs": [],
   "source": [
    "model.load_state_dict(torch.load(\"03 Linear Regression with PyTorch.pkl\"))"
   ]
  },
  {
   "cell_type": "markdown",
   "metadata": {},
   "source": [
    "# plot to graph\n"
   ]
  },
  {
   "cell_type": "code",
   "execution_count": 21,
   "metadata": {},
   "outputs": [
    {
     "data": {
      "image/png": "[encoded data removed]",
      "text/plain": [
       "<Figure size 432x288 with 1 Axes>"
      ]
     },
     "metadata": {},
     "output_type": "display_data"
    }
   ],
   "source": [
    "import matplotlib as plt\n",
    "import matplotlib.pyplot as plt\n",
    "\n",
    "plt.clf()\n",
    "\n",
    "plt.plot(x_train,y_train,'go',label='True data',alpha=0.5)\n",
    "\n",
    "plt.plot(x_train,predicted,'--',label='Predicted',alpha=0.5)\n",
    "plt.legend(loc='best')\n",
    "plt.show()"
   ]
  },
  {
   "cell_type": "markdown",
   "metadata": {},
   "source": [
    "# Use GPU"
   ]
  },
  {
   "cell_type": "code",
   "execution_count": 22,
   "metadata": {
    "collapsed": true
   },
   "outputs": [],
   "source": [
    "# create class\n",
    "class LinearRegressionModel(nn.Module):\n",
    "    \n",
    "    def __init__(self, input_size, output_size):\n",
    "        super(LinearRegressionModel, self).__init__()\n",
    "        self.linear = nn.Linear(input_dim, output_dim)\n",
    "        \n",
    "    def forward(self, x):\n",
    "        out = self.linear(x)\n",
    "        return out\n",
    "\n",
    "input_dim, output_dim = 1, 1\n",
    "model = LinearRegressionModel(input_dim, output_dim)"
   ]
  },
  {
   "cell_type": "code",
   "execution_count": 23,
   "metadata": {},
   "outputs": [],
   "source": [
    "# Everithing on the CPU is same as GPU\n",
    "# But there is some change Let's see\n",
    "\n",
    "if torch.cuda.is_available():\n",
    "    print('Cuda Available')\n",
    "    model.cuda()"
   ]
  },
  {
   "cell_type": "code",
   "execution_count": 24,
   "metadata": {
    "collapsed": true
   },
   "outputs": [],
   "source": [
    "# MSE Loss = Mean Squered Error\n",
    "\n",
    "criteration = nn.MSELoss()\n",
    "\n",
    "# Optimizer Class\n",
    "\n",
    "learning_rate = 0.01\n",
    "\n",
    "optimizer = torch.optim.Adam(model.parameters(), lr = learning_rate)"
   ]
  },
  {
   "cell_type": "code",
   "execution_count": 25,
   "metadata": {
    "scrolled": true
   },
   "outputs": [
    {
     "name": "stdout",
     "output_type": "stream",
     "text": [
      "Gpu Time 0.00013828277587890625\n"
     ]
    }
   ],
   "source": [
    "a = time.time()\n",
    "if torch.cuda.is_available():\n",
    "    print('Cuda Available')\n",
    "\n",
    "    epochs = 100\n",
    "\n",
    "    for epoch in range(1, epochs+1):\n",
    "\n",
    "        # Convert Numpy array to torch\n",
    "        inputs = Variable(torch.from_numpy(x_train).cuda())\n",
    "        labels = Variable(torch.from_numpy(y_train).cuda())\n",
    "\n",
    "        # Clear Gradeients WRT\n",
    "        optimizer.zero_grad()\n",
    "\n",
    "        # Forward to get output \n",
    "        outputs = model(inputs)\n",
    "\n",
    "        # Calculate Loss\n",
    "        loss = criteration(outputs, labels)\n",
    "\n",
    "        # Getting Gradients w.r.t param\n",
    "        loss.backward()\n",
    "\n",
    "        # Updating Parm\n",
    "        optimizer.step()\n",
    "\n",
    "        print('Epocs', epoch, 'loss', loss.data[0])\n",
    "        \n",
    "print('Gpu Time', time.time() - a)"
   ]
  },
  {
   "cell_type": "code",
   "execution_count": null,
   "metadata": {
    "collapsed": true
   },
   "outputs": [],
   "source": []
  },
  {
   "cell_type": "code",
   "execution_count": null,
   "metadata": {
    "collapsed": true
   },
   "outputs": [],
   "source": []
  },
  {
   "cell_type": "code",
   "execution_count": null,
   "metadata": {
    "collapsed": true
   },
   "outputs": [],
   "source": []
  },
  {
   "cell_type": "code",
   "execution_count": null,
   "metadata": {
    "collapsed": true
   },
   "outputs": [],
   "source": []
  }
 ],
 "metadata": {
  "kernelspec": {
   "display_name": "Python 3",
   "language": "python",
   "name": "python3"
  },
  "language_info": {
   "codemirror_mode": {
    "name": "ipython",
    "version": 3
   },
   "file_extension": ".py",
   "mimetype": "text/x-python",
   "name": "python",
   "nbconvert_exporter": "python",
   "pygments_lexer": "ipython3",
   "version": "3.6.3"
  }
 },
 "nbformat": 4,
 "nbformat_minor": 2
}
